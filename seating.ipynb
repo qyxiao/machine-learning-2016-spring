{
 "cells": [
  {
   "cell_type": "code",
   "execution_count": 1,
   "metadata": {
    "collapsed": true
   },
   "outputs": [],
   "source": [
    "import pandas as pd\n",
    "import numpy as np\n",
    "from copy import deepcopy\n",
    "import time"
   ]
  },
  {
   "cell_type": "code",
   "execution_count": 2,
   "metadata": {
    "collapsed": true
   },
   "outputs": [],
   "source": [
    "pd.set_option('max_rows',2000)\n",
    "pd.set_option('max_columns',2000)\n",
    "np.set_printoptions()"
   ]
  },
  {
   "cell_type": "code",
   "execution_count": 3,
   "metadata": {
    "collapsed": false
   },
   "outputs": [],
   "source": [
    "#df = pd.read_stata('/scratch/sv1239/projects/mlcs/raw/Votelevel_stuffjan2013.dta')\n",
    "df = pd.read_stata('Votelevel_stuffjan2013.dta')"
   ]
  },
  {
   "cell_type": "code",
   "execution_count": 4,
   "metadata": {
    "collapsed": true
   },
   "outputs": [],
   "source": [
    "new_cols=df.columns\n",
    "new_cols=new_cols.tolist()"
   ]
  },
  {
   "cell_type": "code",
   "execution_count": 5,
   "metadata": {
    "collapsed": true
   },
   "outputs": [],
   "source": [
    "keep_cols=['casenum','j2vote1','j2maj1','direct1','j3vote1','j3maj1','majvotes','ids','year','codej1','codej2','codej3']"
   ]
  },
  {
   "cell_type": "code",
   "execution_count": 6,
   "metadata": {
    "collapsed": true
   },
   "outputs": [],
   "source": [
    "for col in keep_cols:\n",
    "        new_cols.remove(col)"
   ]
  },
  {
   "cell_type": "code",
   "execution_count": 7,
   "metadata": {
    "collapsed": true
   },
   "outputs": [],
   "source": [
    "df.drop(labels=new_cols,axis=1,inplace=True)"
   ]
  },
  {
   "cell_type": "code",
   "execution_count": 8,
   "metadata": {
    "collapsed": false
   },
   "outputs": [
    {
     "data": {
      "text/plain": [
       "(56403, 12)"
      ]
     },
     "execution_count": 8,
     "metadata": {},
     "output_type": "execute_result"
    }
   ],
   "source": [
    "df.shape"
   ]
  },
  {
   "cell_type": "code",
   "execution_count": 9,
   "metadata": {
    "collapsed": false
   },
   "outputs": [
    {
     "name": "stdout",
     "output_type": "stream",
     "text": [
      "18585\n"
     ]
    }
   ],
   "source": [
    "caseList=pd.unique((df.casenum).dropna())\n",
    "print len(caseList)"
   ]
  },
  {
   "cell_type": "code",
   "execution_count": 11,
   "metadata": {
    "collapsed": false
   },
   "outputs": [
    {
     "name": "stdout",
     "output_type": "stream",
     "text": [
      "0.193000078201\n"
     ]
    }
   ],
   "source": [
    "start=time.time()\n",
    "## on my computer, about 0.5 second per case\n",
    "## there will be 6 rows for each case. codej1 correspond to primary judge \n",
    "newframe=pd.DataFrame()                ##  the rearrange of the original data\n",
    "output=[]                           ##   the corresponding alignment of judge 1 and judge 2, yes =1, no = -1\n",
    "for case in caseList[:10]:    \n",
    "    subtest=df[df.casenum==case].reset_index(drop=True)  ## 'subtest' only take the records that have a specific case id\n",
    "    num=subtest.shape[0]                                 ## num will be 3, because usally there are 3 records for each case \n",
    "    j1=(pd.unique((subtest.codej1).dropna()))[0]\n",
    "    j2=(pd.unique((subtest.codej2).dropna()))[0]\n",
    "    j3=(pd.unique((subtest.codej3).dropna()))[0]\n",
    "\n",
    "    for j in range(num):\n",
    "        copytest=deepcopy(subtest.ix[j])\n",
    "        if copytest.ids==j1:\n",
    "\n",
    "            newframe=newframe.append(copytest)\n",
    "\n",
    "        if copytest.ids==j2:\n",
    "            copytest.codej2=j1\n",
    "            copytest.j2vote1=copytest.direct1\n",
    "            copytest.j2maj1=1\n",
    "            newframe=newframe.append(copytest)\n",
    "\n",
    "        if copytest.ids==j3:\n",
    "            copytest.codej3=j1\n",
    "            copytest.j3vote1=copytest.direct1\n",
    "            copytest.j3maj1=1\n",
    "            newframe=newframe.append(copytest)           \n",
    "            \n",
    "newframe=newframe.reset_index()              ## need to reset the index, otherwise will all be 0\n",
    "newframe=newframe.drop('index',1)  \n",
    "\n",
    "\n",
    "print time.time()-start\n"
   ]
  },
  {
   "cell_type": "code",
   "execution_count": 12,
   "metadata": {
    "collapsed": false,
    "scrolled": true
   },
   "outputs": [],
   "source": [
    "finalframe=newframe.loc[:,['casenum','year','codej2','codej3','j2vote1','j3vote1','j2maj1','j3maj1','direct1']]"
   ]
  },
  {
   "cell_type": "code",
   "execution_count": 15,
   "metadata": {
    "collapsed": false
   },
   "outputs": [],
   "source": [
    "finalframe.to_csv('seating.csv')"
   ]
  },
  {
   "cell_type": "code",
   "execution_count": null,
   "metadata": {
    "collapsed": true
   },
   "outputs": [],
   "source": []
  }
 ],
 "metadata": {
  "kernelspec": {
   "display_name": "Python 2",
   "language": "python",
   "name": "python2"
  },
  "language_info": {
   "codemirror_mode": {
    "name": "ipython",
    "version": 2
   },
   "file_extension": ".py",
   "mimetype": "text/x-python",
   "name": "python",
   "nbconvert_exporter": "python",
   "pygments_lexer": "ipython2",
   "version": "2.7.11"
  }
 },
 "nbformat": 4,
 "nbformat_minor": 0
}
